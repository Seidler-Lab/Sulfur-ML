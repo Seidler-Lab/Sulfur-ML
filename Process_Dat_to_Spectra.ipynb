{
 "cells": [
  {
   "cell_type": "markdown",
   "metadata": {},
   "source": [
    "## Processes XES and XANES .dat files into spectra"
   ]
  },
  {
   "cell_type": "code",
   "execution_count": 2,
   "metadata": {},
   "outputs": [],
   "source": [
    "import numpy as np\n",
    "import os\n",
    "import shutil\n",
    "import subprocess\n",
    "import timeit"
   ]
  },
  {
   "cell_type": "markdown",
   "metadata": {},
   "source": [
    "# Must have .dat files in correct directory!\n",
    "### See below."
   ]
  },
  {
   "cell_type": "code",
   "execution_count": 3,
   "metadata": {},
   "outputs": [],
   "source": [
    "Types = np.array([1,2,3,4,5])\n",
    "\n",
    "ROOTDIR = os.getcwd()\n",
    "TYPEdir = \"Categories/\"\n",
    "\n",
    "TEST_XESdir = \"Data/dat_files/TESTdatfiles/XES/\"\n",
    "TEST_XANESdir = \"Data/dat_files/TESTdatfiles/XANES/\"\n",
    "\n",
    "XESdir = \"Data/dat_files/TRAINdatfiles/XES/\"\n",
    "XANESdir = \"Data/dat_files/TRAINdatfiles/XES/\"\n",
    "\n",
    "## Run this once at the very beginning:\n",
    "# for t in Types:\n",
    "#     os.makedirs(f\"Type{t}\")"
   ]
  },
  {
   "cell_type": "markdown",
   "metadata": {},
   "source": [
    "## Get lists of compounds to process"
   ]
  },
  {
   "cell_type": "code",
   "execution_count": 4,
   "metadata": {},
   "outputs": [
    {
     "name": "stdout",
     "output_type": "stream",
     "text": [
      "53\n"
     ]
    }
   ],
   "source": [
    "test_list = [f.replace('.dat','') for f in os.listdir(TEST_XESdir) if f.endswith('.dat')]\n",
    "print(len(test_list))"
   ]
  },
  {
   "cell_type": "code",
   "execution_count": 5,
   "metadata": {},
   "outputs": [],
   "source": [
    "# xes_list = [f.replace('.dat','') for f in os.listdir(XESdir) if f.endswith('.dat')]\n",
    "# xanes_list = [f.replace('.dat','') for f in os.listdir(XANESdir) if f.endswith('.dat')]"
   ]
  },
  {
   "cell_type": "markdown",
   "metadata": {},
   "source": [
    "# Test data processing"
   ]
  },
  {
   "cell_type": "code",
   "execution_count": 6,
   "metadata": {},
   "outputs": [],
   "source": [
    "def make_test_directories(c):\n",
    "    os.chdir('Data/TEST/')\n",
    "    os.makedirs(c)\n",
    "    os.chdir(f'{c}')\n",
    "    os.makedirs('XANES')\n",
    "    os.makedirs('XES')\n",
    "    os.chdir(ROOTDIR)\n",
    "\n",
    "def process_TEST(process_list=test_list, mode='XES'):\n",
    "    \n",
    "    # grab appropriate directories\n",
    "    if mode == 'XES':\n",
    "        directory = TEST_XESdir\n",
    "    elif mode == 'XANES':\n",
    "        directory = TEST_XANESdir\n",
    "    else:\n",
    "        print(f\"Invalid mode {mode}. Must be 'XES' or 'XANES'.\")\n",
    "        return\n",
    "    \n",
    "    i = 1\n",
    "    for c in process_list:\n",
    "        \n",
    "        # we don't want to proccess everything\n",
    "        process = False\n",
    "        \n",
    "        # if .dat file exists\n",
    "        if os.path.exists(f'{directory}{c}.dat'):\n",
    "            \n",
    "            # make directories in TEST folder\n",
    "            if not os.path.exists(f'Data/TEST/{c}'):\n",
    "                make_test_directories(c)\n",
    "            else:\n",
    "                # directory already exists\n",
    "                pass\n",
    "            \n",
    "            shutil.copyfile(f'{directory}{c}.dat', f'{c}.dat')\n",
    "            process = True\n",
    "        else:\n",
    "            print(f\"Cannot locate {directory}{c}.dat\")\n",
    "            return\n",
    "\n",
    "        # only process if .dat file available  \n",
    "        if process:\n",
    "            \n",
    "            if mode == 'XES':\n",
    "                subprocess.call(['python', 'tddftoutputparser.py', '-f', f'{c}.dat',\n",
    "                                 '-l', '0.6', '-g', '0.3', '-emin', '2445', '-emax', '2480', '-eshift',\n",
    "                                 '-mode', 'XES'])\n",
    "            elif mode == 'XANES':\n",
    "                shutil.copyfile(f'{TEST_XESdir}{c}.dat', f'xes_{c}.dat')\n",
    "                subprocess.call(['python', 'tddftoutputparser.py', '-f', f'{c}.dat', '-eshift', '-lb',\n",
    "                                 '-mode', 'XANES']) \n",
    "                os.remove(f'xes_{c}.dat')\n",
    "       \n",
    "        # check spectrum was correctly processed       \n",
    "        if os.path.exists(f'{c}.processedspectrum'):\n",
    "            # if old processed spectrum exitss, remove it first before replacing\n",
    "            if os.path.exists(f'Data/TEST/{c}/{mode}/{c}.processedspectrum'):\n",
    "                os.remove(f'Data/TEST/{c}/{mode}/{c}.processedspectrum')\n",
    "            # move processed spectrum file\n",
    "            shutil.move(f'{c}.processedspectrum', f'Data/TEST/{c}/{mode}/{c}.processedspectrum')\n",
    "        else:\n",
    "            print(\"\\t ! No processed spectrum file\")\n",
    "        \n",
    "        # check if dat file already in dat{a directory\n",
    "        if os.path.exists(f'Data/TEST/{c}/{mode}/{c}.dat'):\n",
    "            os.remove(f'Data/TEST/{c}/{mode}/{c}.dat')\n",
    "        # now move copied .dat file over\n",
    "        shutil.move(f'{c}.dat', f'Data/TEST/{c}/{mode}/{c}.dat')\n",
    "                    \n",
    "        print(f'{i}\\r', end=\"\")\n",
    "        i += 1"
   ]
  },
  {
   "cell_type": "code",
   "execution_count": 9,
   "metadata": {},
   "outputs": [
    {
     "name": "stdout",
     "output_type": "stream",
     "text": [
      "Runtime: 1.3627255200000004 min\n"
     ]
    }
   ],
   "source": [
    "start = timeit.default_timer()\n",
    "\n",
    "process_TEST(process_list=test_list, mode='XES')\n",
    "\n",
    "stop = timeit.default_timer()\n",
    "print(f\"Runtime: {(stop - start)/60} min\")"
   ]
  },
  {
   "cell_type": "code",
   "execution_count": 8,
   "metadata": {},
   "outputs": [
    {
     "name": "stdout",
     "output_type": "stream",
     "text": [
      "Runtime: 1.7043436800000034 min\n"
     ]
    }
   ],
   "source": [
    "start = timeit.default_timer()\n",
    "\n",
    "process_TEST(process_list=test_list, mode='XANES')\n",
    "\n",
    "stop = timeit.default_timer()\n",
    "print(f\"Runtime: {(stop - start)/60} min\")"
   ]
  },
  {
   "cell_type": "markdown",
   "metadata": {},
   "source": [
    "# Training Data Processing"
   ]
  },
  {
   "cell_type": "code",
   "execution_count": 7,
   "metadata": {},
   "outputs": [],
   "source": [
    "def make_train_directories(c, t):\n",
    "    os.chdir(f'Data/Type{t}')\n",
    "    os.makedirs(c)\n",
    "    os.chdir(f'{c}')\n",
    "    os.makedirs('XANES')\n",
    "    os.makedirs('XES')\n",
    "    os.chdir(ROOTDIR)\n",
    "\n",
    "def process_spectra(process_list=None, mode='XES'):\n",
    "    \n",
    "    # grab appropriate directories\n",
    "    if mode == 'XES':\n",
    "        directory = XESdir\n",
    "    elif mode == 'XANES':\n",
    "        directory = XANESdir\n",
    "    else:\n",
    "        print(f\"Invalid mode {mode}. Must be 'XES' or 'XANES'.\")\n",
    "        return\n",
    "    \n",
    "    i = 1\n",
    "    for t in Types:\n",
    "        \n",
    "        file_name = f\"{TYPEdir}Type{t}/Type{t}.txt\"\n",
    "        file = open(file_name, 'r')\n",
    "\n",
    "        for line in file:\n",
    "            c = line.replace('\\n','')\n",
    "            \n",
    "            # process everything if no list\n",
    "            if process_list is None or c in process_list:\n",
    "               \n",
    "                # check location of dat file\n",
    "                \n",
    "                # not processed yet\n",
    "                if os.path.exists(f'{directory}{c}.dat'):\n",
    "                    # direcotries need to be created\n",
    "                    if not os.path.exists(f'Data/Type{t}/{c}'):\n",
    "                        make_train_directories(c)\n",
    "                    shutil.copyfile(f'{directory}{c}.dat', f'{c}.dat')\n",
    "                    processed = False\n",
    "                    \n",
    "                # grab already processed dat file  \n",
    "                elif os.path.exists(f'Data/Type{t}/{c}/{mode}/{c}.dat'):\n",
    "                    shutil.copyfile(f'Data/Type{t}/{c}/{mode}/{c}.dat', f'{c}.dat')\n",
    "                    processed = True\n",
    "                    \n",
    "                # data file not in the two expected locations\n",
    "                else:\n",
    "                    print(f\"Cannot find {directory}{c}.dat\")\n",
    "                    return\n",
    "\n",
    "                if mode == 'XES':\n",
    "                    subprocess.call(['python', 'tddftoutputparser.py', '-f', f'{c}.dat',\n",
    "                                     '-l', '0.6', '-g', '0.3', '-emin', '2445', '-emax', '2480', '-eshift',\n",
    "                                     '-mode', 'XES'])\n",
    "                elif mode == 'XANES':\n",
    "                    # copy xes over as well to mnormalize by k alpha\n",
    "                    if processed:\n",
    "                        xes_dir = f'Data/Type{t}/{c}/XES/'\n",
    "                    else:\n",
    "                        xes_dir = XESdir\n",
    "                    shutil.copyfile(f'{xes_dir}{c}.dat', f'xes_{c}.dat')\n",
    "                    subprocess.call(['python', 'tddftoutputparser.py', '-f', f'{c}.dat', '-eshift', '-lb',\n",
    "                                     '-mode', 'XANES']) \n",
    "                    os.remove(f'xes_{c}.dat')\n",
    "\n",
    "                # check spectrum was correctly processed       \n",
    "                if os.path.exists(f'{c}.processedspectrum'):\n",
    "                    # if old processed spectrum exitss, remove it first before replacing\n",
    "                    if os.path.exists(f'Data/Type{t}/{c}/{mode}/{c}.processedspectrum'):\n",
    "                        os.remove(f'Data/Type{t}/{c}/{mode}/{c}.processedspectrum')\n",
    "                    # move processed spectrum file\n",
    "                    shutil.move(f'{c}.processedspectrum', f'Data/Type{t}/{c}/{mode}/{c}.processedspectrum')\n",
    "                else:\n",
    "                    print(\"\\t ! No processed spectrum file\")\n",
    "\n",
    "                # check if dat file already in dat{a directory\n",
    "                if os.path.exists(f'Data/Type{t}/{c}/{mode}/{c}.dat'):\n",
    "                    os.remove(f'Data/Type{t}/{c}/{mode}/{c}.dat')\n",
    "                # now move copied .dat file over\n",
    "                shutil.move(f'{c}.dat', f'Data/Type{t}/{c}/{mode}/{c}.dat')\n",
    "\n",
    "                print(f'{i}\\r', end=\"\")\n",
    "                i += 1"
   ]
  },
  {
   "cell_type": "code",
   "execution_count": 10,
   "metadata": {},
   "outputs": [
    {
     "name": "stdout",
     "output_type": "stream",
     "text": [
      "Runtime: 22.770089465 min\n"
     ]
    }
   ],
   "source": [
    "start = timeit.default_timer()\n",
    "\n",
    "process_spectra(mode='XES')\n",
    "# process_spectra(process_list=['2-Fluorothiophenol'], mode='XES')\n",
    "\n",
    "stop = timeit.default_timer()\n",
    "print(f\"Runtime: {(stop - start)/60} min\")"
   ]
  },
  {
   "cell_type": "code",
   "execution_count": 5,
   "metadata": {},
   "outputs": [
    {
     "name": "stdout",
     "output_type": "stream",
     "text": [
      "Runtime: 21.659081800000003 min\n"
     ]
    }
   ],
   "source": [
    "start = timeit.default_timer()\n",
    "\n",
    "# process_spectra(process_list=['2-Fluorothiophenol'], mode='XANES')\n",
    "process_spectra(mode='XANES')\n",
    "\n",
    "stop = timeit.default_timer()\n",
    "print(f\"Runtime: {(stop - start)/60} min\")"
   ]
  },
  {
   "cell_type": "code",
   "execution_count": null,
   "metadata": {},
   "outputs": [],
   "source": []
  }
 ],
 "metadata": {
  "kernelspec": {
   "display_name": "Python 3",
   "language": "python",
   "name": "python3"
  },
  "language_info": {
   "codemirror_mode": {
    "name": "ipython",
    "version": 3
   },
   "file_extension": ".py",
   "mimetype": "text/x-python",
   "name": "python",
   "nbconvert_exporter": "python",
   "pygments_lexer": "ipython3",
   "version": "3.7.3"
  }
 },
 "nbformat": 4,
 "nbformat_minor": 2
}
